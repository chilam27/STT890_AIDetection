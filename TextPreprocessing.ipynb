{
 "cells": [
  {
   "cell_type": "markdown",
   "id": "420d4e15-1d1f-49b4-8f27-140130664657",
   "metadata": {},
   "source": [
    "# Import Library & Dataset"
   ]
  },
  {
   "cell_type": "code",
   "execution_count": null,
   "id": "e47fa6e8-9d81-47dd-b695-d01d2cd2a9bc",
   "metadata": {},
   "outputs": [],
   "source": [
    "# Import libraries\n",
    "import pandas as pd\n",
    "import re\n",
    "import matplotlib.pyplot as plt\n",
    "import seaborn as sns\n",
    "from wordcloud import WordCloud\n",
    "\n",
    "from sklearn.model_selection import train_test_split\n",
    "from sklearn.feature_extraction.text import TfidfVectorizer"
   ]
  },
  {
   "cell_type": "code",
   "execution_count": null,
   "id": "4a8d24fc-d141-45fa-8244-15fdf552e894",
   "metadata": {},
   "outputs": [],
   "source": [
    "# Load dataset\n",
    "def load_parquet_files(file_paths):\n",
    "    dataframes = [pd.read_parquet(file, engine = \"pyarrow\") for file in file_paths]\n",
    "    return pd.concat(dataframes, ignore_index = True)\n",
    "\n",
    "parquet_files = [\"data/train-00000-of-00007-bc5952582e004d67.parquet\", \n",
    "                 \"data/train-00001-of-00007-71c80017bc45f30d.parquet\", \n",
    "                 \"data/train-00002-of-00007-ee2d43f396e78fbc.parquet\", \n",
    "                 \"data/train-00003-of-00007-529931154b42b51d.parquet\", \n",
    "                 \"data/train-00004-of-00007-b269dc49374a2c0b.parquet\", \n",
    "                 \"data/train-00005-of-00007-3dce5e05ddbad789.parquet\",\n",
    "                 \"data/train-00006-of-00007-3d8a471ba0cf1c8d.parquet\"\n",
    "                ]\n",
    "\n",
    "df_full = load_parquet_files(parquet_files)\n",
    "df_full.head()"
   ]
  },
  {
   "cell_type": "code",
   "execution_count": null,
   "id": "50a26785-2a0f-44e5-9540-c643c6fe827b",
   "metadata": {},
   "outputs": [],
   "source": [
    "# Full dataset's shape\n",
    "df_full.shape"
   ]
  },
  {
   "cell_type": "code",
   "execution_count": null,
   "id": "dc76118a-d2e4-4992-9d1a-b77e6aa85aa8",
   "metadata": {},
   "outputs": [],
   "source": [
    "# Define the sample size \n",
    "sample_fraction = 0.1  \n",
    "df, _ = train_test_split(df_full, train_size = sample_fraction, stratify = df_full['source'], random_state = 1)\n",
    "df = df.reset_index(drop = True)\n",
    "df.shape"
   ]
  },
  {
   "cell_type": "markdown",
   "id": "7c882d64-1d14-4de0-b4a6-0a84d15e5202",
   "metadata": {},
   "source": [
    "# IDE"
   ]
  },
  {
   "cell_type": "code",
   "execution_count": null,
   "id": "34069014-0613-40e3-aaf0-8d0eb97dffa6",
   "metadata": {},
   "outputs": [],
   "source": [
    "# Class distribution\n",
    "f, ax = plt.subplots(figsize = (13, 6))\n",
    "sns.countplot(x = 'source', data = df)\n",
    "plt.title(\"Target Class Distribution\")\n",
    "plt.show()"
   ]
  },
  {
   "cell_type": "code",
   "execution_count": null,
   "id": "a7c6c560-aef9-4b88-8492-f421874b550b",
   "metadata": {},
   "outputs": [],
   "source": [
    "# Text length analysis\n",
    "f, ax = plt.subplots(figsize = (13, 6))\n",
    "df['text_length'] = df['text'].apply(lambda x: len(x.split()))\n",
    "sns.histplot(df, x = 'text_length', hue = 'source', bins = 50)\n",
    "plt.title(\"Text Length Distribution\")\n",
    "plt.show()"
   ]
  },
  {
   "cell_type": "code",
   "execution_count": null,
   "id": "5863667b-1326-48ad-9b70-5eda7be5e575",
   "metadata": {},
   "outputs": [],
   "source": [
    "# Average text length analysis\n",
    "f, ax = plt.subplots(figsize = (13, 6))\n",
    "sns.boxplot(df, x = 'text_length', y = 'source')\n",
    "plt.title(\"Average Text Length Distribution\")\n",
    "plt.show()"
   ]
  },
  {
   "cell_type": "code",
   "execution_count": null,
   "id": "c285ea61-cd65-4db5-b5a8-19e6f482362d",
   "metadata": {},
   "outputs": [],
   "source": [
    "# Average text length analysis without outliers\n",
    "f, ax = plt.subplots(figsize = (13, 6))\n",
    "sns.boxplot(df, x = 'text_length', y = 'source', showfliers = False)\n",
    "plt.title(\"Average Text Length Distribution (remove outliers)\")\n",
    "plt.show()"
   ]
  },
  {
   "cell_type": "code",
   "execution_count": null,
   "id": "57dc9dd5-6dd4-4018-8c66-e037699bce56",
   "metadata": {},
   "outputs": [],
   "source": [
    "# Text length distribution\n",
    "df.groupby(\"source\")[['source', 'text_length']].describe()"
   ]
  },
  {
   "cell_type": "code",
   "execution_count": null,
   "id": "539d1e64-be0e-415b-8dfb-70472fc30849",
   "metadata": {},
   "outputs": [],
   "source": [
    "# Word cloud (only contains the first 1000 rows of each label)\n",
    "fig, axs = plt.subplots(2,1, figsize = (100, 15))\n",
    "for i in range(len(df['source'].unique())):\n",
    "    txt = ' '.join(df[df['source'] == df['source'].unique()[i]]['text'].head(1000).astype(str))\n",
    "    wordcloud = WordCloud().generate(txt)\n",
    "    title = '\"' + df['source'].unique()[i] + '\"' + ' Word Cloud'\n",
    "    \n",
    "    axs[i].imshow(wordcloud, interpolation = 'bilinear')\n",
    "    axs[i].axis(\"off\")\n",
    "    axs[i].set_title(title)"
   ]
  },
  {
   "cell_type": "markdown",
   "id": "1b300bb8-aa25-414a-935d-0e99d149f3b8",
   "metadata": {},
   "source": [
    "# Text Preprocessing"
   ]
  },
  {
   "cell_type": "code",
   "execution_count": null,
   "id": "7eb3dada-cd8b-4940-be1a-a2126af611c2",
   "metadata": {},
   "outputs": [],
   "source": [
    "# Text Sample\n",
    "print(df['text'][0])"
   ]
  },
  {
   "cell_type": "code",
   "execution_count": null,
   "id": "a1010511-a8bd-4ae7-a63d-7beffd752224",
   "metadata": {},
   "outputs": [],
   "source": [
    "# Basic text preprocessing\n",
    "def preprocess_text(text):\n",
    "    text = text.lower()\n",
    "    text = re.sub(r'\\n', '', text)  # Remove newline characters\n",
    "    text = re.sub(r'[^a-zA-Z0-9\\s]', '', text)  # Remove special characters\n",
    "    text = re.sub(r'\\s+', ' ', text).strip()  # Remove extra spaces\n",
    "    return text\n",
    "\n",
    "df['clean_text'] = df['text'].apply(preprocess_text)\n",
    "df = df[df['clean_text'].str.len() > 5]\n",
    "df = df.reset_index(drop = True)"
   ]
  },
  {
   "cell_type": "code",
   "execution_count": null,
   "id": "ecee82d7-e6ba-4c0a-bf71-de97633ec98d",
   "metadata": {},
   "outputs": [],
   "source": [
    "df = df.dropna(subset=['clean_text'])  # Remove rows where 'clean_text' is NaN\n",
    "df = df[df['clean_text'].str.strip() != '']  # Remove empty strings"
   ]
  },
  {
   "cell_type": "code",
   "execution_count": null,
   "id": "4ea55a6e-d8e7-45cf-8182-bcb91b4a89fa",
   "metadata": {},
   "outputs": [],
   "source": [
    "# TF-IDF feature extraction\n",
    "vectorizer = TfidfVectorizer(max_features = 5000, stop_words = 'english', ngram_range = (1, 2))\n",
    "X = vectorizer.fit_transform(df['clean_text'])\n",
    "y = df['source'].map({'human': 0, 'ai': 1})"
   ]
  },
  {
   "cell_type": "code",
   "execution_count": null,
   "id": "542e333a-6221-408a-bc25-ec4866cf7fd3",
   "metadata": {},
   "outputs": [],
   "source": [
    "# # Handling class imbalance using SMOTE\n",
    "# smote = SMOTE(random_state = 1)\n",
    "# X_resampled, y_resampled = smote.fit_resample(X, y)"
   ]
  },
  {
   "cell_type": "code",
   "execution_count": null,
   "id": "0ab5a2ac-582b-424c-9d34-54ae0a5f1df9",
   "metadata": {},
   "outputs": [],
   "source": [
    "from imblearn.over_sampling import RandomOverSampler\n",
    "ros = RandomOverSampler(sampling_strategy = 'minority', random_state = 1)\n",
    "X_resampled, y_resampled = ros.fit_resample(X, y)"
   ]
  },
  {
   "cell_type": "code",
   "execution_count": null,
   "id": "13bd8122-dab4-4eeb-9584-18da5eb75185",
   "metadata": {},
   "outputs": [],
   "source": []
  },
  {
   "cell_type": "code",
   "execution_count": null,
   "id": "bd868f0a-2e19-460b-955c-42fce7897683",
   "metadata": {},
   "outputs": [],
   "source": []
  }
 ],
 "metadata": {
  "kernelspec": {
   "display_name": "Python 3 (ipykernel)",
   "language": "python",
   "name": "python3"
  },
  "language_info": {
   "codemirror_mode": {
    "name": "ipython",
    "version": 3
   },
   "file_extension": ".py",
   "mimetype": "text/x-python",
   "name": "python",
   "nbconvert_exporter": "python",
   "pygments_lexer": "ipython3",
   "version": "3.12.3"
  }
 },
 "nbformat": 4,
 "nbformat_minor": 5
}
